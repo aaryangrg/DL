{
  "nbformat": 4,
  "nbformat_minor": 0,
  "metadata": {
    "colab": {
      "provenance": [],
      "authorship_tag": "ABX9TyOhR9AUJFKwLQmvW+dr9g/M",
      "include_colab_link": true
    },
    "kernelspec": {
      "name": "python3",
      "display_name": "Python 3"
    },
    "language_info": {
      "name": "python"
    }
  },
  "cells": [
    {
      "cell_type": "markdown",
      "metadata": {
        "id": "view-in-github",
        "colab_type": "text"
      },
      "source": [
        "<a href=\"https://colab.research.google.com/github/aaryangrg/DL/blob/master/Classification.ipynb\" target=\"_parent\"><img src=\"https://colab.research.google.com/assets/colab-badge.svg\" alt=\"Open In Colab\"/></a>"
      ]
    },
    {
      "cell_type": "code",
      "execution_count": 2,
      "metadata": {
        "id": "cH3_wx7CJIWo"
      },
      "outputs": [],
      "source": [
        "from sklearn.datasets import make_circles\n",
        "n_samples = 1000\n",
        "X,y = make_circles(n_samples, noise = 0.05, random_state = 42)\n"
      ]
    },
    {
      "cell_type": "code",
      "source": [
        "import pandas as pd\n",
        "circles = pd.DataFrame({\"X1\" : X[:,0], \"X2\" : X[:,1],\n",
        "                        \"label\" : y})\n",
        "circles.head(5)"
      ],
      "metadata": {
        "colab": {
          "base_uri": "https://localhost:8080/",
          "height": 206
        },
        "id": "G06WIKSizdTq",
        "outputId": "c8d8ef34-54be-4f7a-c916-004ed5e65b42"
      },
      "execution_count": 3,
      "outputs": [
        {
          "output_type": "execute_result",
          "data": {
            "text/plain": [
              "         X1        X2  label\n",
              "0  0.742207  0.246686      1\n",
              "1 -0.734032  0.168692      1\n",
              "2 -0.829859  0.221959      1\n",
              "3 -0.429136  0.672230      1\n",
              "4  0.445602 -0.894936      0"
            ],
            "text/html": [
              "\n",
              "  <div id=\"df-5ba5e6b1-0741-4f0f-8ca8-c0ead4d0849a\">\n",
              "    <div class=\"colab-df-container\">\n",
              "      <div>\n",
              "<style scoped>\n",
              "    .dataframe tbody tr th:only-of-type {\n",
              "        vertical-align: middle;\n",
              "    }\n",
              "\n",
              "    .dataframe tbody tr th {\n",
              "        vertical-align: top;\n",
              "    }\n",
              "\n",
              "    .dataframe thead th {\n",
              "        text-align: right;\n",
              "    }\n",
              "</style>\n",
              "<table border=\"1\" class=\"dataframe\">\n",
              "  <thead>\n",
              "    <tr style=\"text-align: right;\">\n",
              "      <th></th>\n",
              "      <th>X1</th>\n",
              "      <th>X2</th>\n",
              "      <th>label</th>\n",
              "    </tr>\n",
              "  </thead>\n",
              "  <tbody>\n",
              "    <tr>\n",
              "      <th>0</th>\n",
              "      <td>0.742207</td>\n",
              "      <td>0.246686</td>\n",
              "      <td>1</td>\n",
              "    </tr>\n",
              "    <tr>\n",
              "      <th>1</th>\n",
              "      <td>-0.734032</td>\n",
              "      <td>0.168692</td>\n",
              "      <td>1</td>\n",
              "    </tr>\n",
              "    <tr>\n",
              "      <th>2</th>\n",
              "      <td>-0.829859</td>\n",
              "      <td>0.221959</td>\n",
              "      <td>1</td>\n",
              "    </tr>\n",
              "    <tr>\n",
              "      <th>3</th>\n",
              "      <td>-0.429136</td>\n",
              "      <td>0.672230</td>\n",
              "      <td>1</td>\n",
              "    </tr>\n",
              "    <tr>\n",
              "      <th>4</th>\n",
              "      <td>0.445602</td>\n",
              "      <td>-0.894936</td>\n",
              "      <td>0</td>\n",
              "    </tr>\n",
              "  </tbody>\n",
              "</table>\n",
              "</div>\n",
              "      <button class=\"colab-df-convert\" onclick=\"convertToInteractive('df-5ba5e6b1-0741-4f0f-8ca8-c0ead4d0849a')\"\n",
              "              title=\"Convert this dataframe to an interactive table.\"\n",
              "              style=\"display:none;\">\n",
              "        \n",
              "  <svg xmlns=\"http://www.w3.org/2000/svg\" height=\"24px\"viewBox=\"0 0 24 24\"\n",
              "       width=\"24px\">\n",
              "    <path d=\"M0 0h24v24H0V0z\" fill=\"none\"/>\n",
              "    <path d=\"M18.56 5.44l.94 2.06.94-2.06 2.06-.94-2.06-.94-.94-2.06-.94 2.06-2.06.94zm-11 1L8.5 8.5l.94-2.06 2.06-.94-2.06-.94L8.5 2.5l-.94 2.06-2.06.94zm10 10l.94 2.06.94-2.06 2.06-.94-2.06-.94-.94-2.06-.94 2.06-2.06.94z\"/><path d=\"M17.41 7.96l-1.37-1.37c-.4-.4-.92-.59-1.43-.59-.52 0-1.04.2-1.43.59L10.3 9.45l-7.72 7.72c-.78.78-.78 2.05 0 2.83L4 21.41c.39.39.9.59 1.41.59.51 0 1.02-.2 1.41-.59l7.78-7.78 2.81-2.81c.8-.78.8-2.07 0-2.86zM5.41 20L4 18.59l7.72-7.72 1.47 1.35L5.41 20z\"/>\n",
              "  </svg>\n",
              "      </button>\n",
              "      \n",
              "  <style>\n",
              "    .colab-df-container {\n",
              "      display:flex;\n",
              "      flex-wrap:wrap;\n",
              "      gap: 12px;\n",
              "    }\n",
              "\n",
              "    .colab-df-convert {\n",
              "      background-color: #E8F0FE;\n",
              "      border: none;\n",
              "      border-radius: 50%;\n",
              "      cursor: pointer;\n",
              "      display: none;\n",
              "      fill: #1967D2;\n",
              "      height: 32px;\n",
              "      padding: 0 0 0 0;\n",
              "      width: 32px;\n",
              "    }\n",
              "\n",
              "    .colab-df-convert:hover {\n",
              "      background-color: #E2EBFA;\n",
              "      box-shadow: 0px 1px 2px rgba(60, 64, 67, 0.3), 0px 1px 3px 1px rgba(60, 64, 67, 0.15);\n",
              "      fill: #174EA6;\n",
              "    }\n",
              "\n",
              "    [theme=dark] .colab-df-convert {\n",
              "      background-color: #3B4455;\n",
              "      fill: #D2E3FC;\n",
              "    }\n",
              "\n",
              "    [theme=dark] .colab-df-convert:hover {\n",
              "      background-color: #434B5C;\n",
              "      box-shadow: 0px 1px 3px 1px rgba(0, 0, 0, 0.15);\n",
              "      filter: drop-shadow(0px 1px 2px rgba(0, 0, 0, 0.3));\n",
              "      fill: #FFFFFF;\n",
              "    }\n",
              "  </style>\n",
              "\n",
              "      <script>\n",
              "        const buttonEl =\n",
              "          document.querySelector('#df-5ba5e6b1-0741-4f0f-8ca8-c0ead4d0849a button.colab-df-convert');\n",
              "        buttonEl.style.display =\n",
              "          google.colab.kernel.accessAllowed ? 'block' : 'none';\n",
              "\n",
              "        async function convertToInteractive(key) {\n",
              "          const element = document.querySelector('#df-5ba5e6b1-0741-4f0f-8ca8-c0ead4d0849a');\n",
              "          const dataTable =\n",
              "            await google.colab.kernel.invokeFunction('convertToInteractive',\n",
              "                                                     [key], {});\n",
              "          if (!dataTable) return;\n",
              "\n",
              "          const docLinkHtml = 'Like what you see? Visit the ' +\n",
              "            '<a target=\"_blank\" href=https://colab.research.google.com/notebooks/data_table.ipynb>data table notebook</a>'\n",
              "            + ' to learn more about interactive tables.';\n",
              "          element.innerHTML = '';\n",
              "          dataTable['output_type'] = 'display_data';\n",
              "          await google.colab.output.renderOutput(dataTable, element);\n",
              "          const docLink = document.createElement('div');\n",
              "          docLink.innerHTML = docLinkHtml;\n",
              "          element.appendChild(docLink);\n",
              "        }\n",
              "      </script>\n",
              "    </div>\n",
              "  </div>\n",
              "  "
            ]
          },
          "metadata": {},
          "execution_count": 3
        }
      ]
    },
    {
      "cell_type": "code",
      "source": [
        "import matplotlib.pyplot as plt\n",
        "plt.scatter(x = X[:,0], y = X[:,1], c = y)"
      ],
      "metadata": {
        "colab": {
          "base_uri": "https://localhost:8080/",
          "height": 283
        },
        "id": "MhieeBAz0AHE",
        "outputId": "8af9a039-fb7c-49b9-c35c-6854ac609ce2"
      },
      "execution_count": 4,
      "outputs": [
        {
          "output_type": "execute_result",
          "data": {
            "text/plain": [
              "<matplotlib.collections.PathCollection at 0x7f4325ef7f70>"
            ]
          },
          "metadata": {},
          "execution_count": 4
        },
        {
          "output_type": "display_data",
          "data": {
            "text/plain": [
              "<Figure size 432x288 with 1 Axes>"
            ],
            "image/png": "[encoded data removed]"
          },
          "metadata": {
            "needs_background": "light"
          }
        }
      ]
    },
    {
      "cell_type": "code",
      "source": [
        "import torch\n",
        "from sklearn.model_selection import train_test_split\n",
        "\n",
        "#Splits tensor into train and test sets with randomization\n",
        "X_train, X_test, y_train, y_test = train_test_split(X,y,test_size = 0.2)\n"
      ],
      "metadata": {
        "id": "TT5s3puc090W"
      },
      "execution_count": 5,
      "outputs": []
    },
    {
      "cell_type": "code",
      "source": [
        "from torch import nn\n",
        "\n",
        "device = \"cuda\" if torch.cuda.is_available() else \"cpu\"\n"
      ],
      "metadata": {
        "id": "7_ngrIRp2PWk"
      },
      "execution_count": 6,
      "outputs": []
    },
    {
      "cell_type": "code",
      "source": [
        "#Model creation\n",
        "class ClassificationModel(nn.Module):\n",
        "  def __init__(self):\n",
        "    super().__init__()\n",
        "    self.layer_1 = nn.Linear(in_features = 2, out_features = 5)\n",
        "    self.layer2 = nn.Linear(in_features = 5, out_features = 1)\n",
        "\n",
        "  def forward(self,X):\n",
        "    return self.layer2(self.layer_1(X))\n",
        "\n",
        "model = ClassificationModel().to(device)\n"
      ],
      "metadata": {
        "id": "zjMmamqZ3AyJ"
      },
      "execution_count": 7,
      "outputs": []
    },
    {
      "cell_type": "code",
      "source": [
        "#Easier method to do the same as the model above \n",
        "\n",
        "model2 = nn.Sequential(\n",
        "    nn.Linear(in_features = 2, out_features = 5),\n",
        "    nn.Linear(in_features = 5, out_features = 1)\n",
        ").to(device)\n",
        "\n",
        "#We use this if all of our computation and layers will always be in order of their definiton\n"
      ],
      "metadata": {
        "id": "jeb1QBY44OvN"
      },
      "execution_count": 8,
      "outputs": []
    },
    {
      "cell_type": "code",
      "source": [
        "loss_fn = nn.BCEWithLogitsLoss()\n",
        "optimizer = torch.optim.SGD(params = model.parameters(), lr = 0.1)\n"
      ],
      "metadata": {
        "id": "f6HuMOew-E_q"
      },
      "execution_count": 9,
      "outputs": []
    },
    {
      "cell_type": "code",
      "source": [
        "#Model evaluation metrics :  Accuracy\n",
        "def accuracy_fn(y_true, y_pred):\n",
        "  correct = torch.eq(y_true,y_pred).sum().item()\n",
        "  acc = (correct/len(y_pred))*100\n",
        "  return acc"
      ],
      "metadata": {
        "id": "eCapIFca-XNn"
      },
      "execution_count": 10,
      "outputs": []
    },
    {
      "cell_type": "code",
      "source": [
        "torch.manual_seed(42)\n",
        "epochs = 100\n",
        "\n",
        "X_train, y_train = X_train.to(device), y_train.to(device)\n",
        "X_test, y_test = X_test.to(device), y_test.to(device)\n",
        "\n",
        "for epoch in range(epochs):\n",
        "  model.train()\n",
        "  y_logits = model(X_train.type(torch.float32)).squeeze()\n",
        "  y_pred = torch.round(torch.sigmoid(y_logits))\n",
        "  loss = loss_fn(y_train.type(torch.float), y_logits)\n",
        "  acc = accuracy_fn(y_train, y_pred) \n",
        "  optimizer.zero_grad()\n",
        "  loss.backward()\n",
        "  optimizer.step()\n",
        "\n",
        "  model.eval()\n",
        "  with torch.inference_mode() :\n",
        "    test_logs = model(X_test.type(torch.float32)).squeeze()\n",
        "    test_pred = torch.round(torch.sigmoid(test_logs))\n",
        "    test_loss = loss_fn(test_logs.type(torch.float32), y_test.type(torch.float32))\n",
        "    test_accuracy = accuracy_fn(y_test, test_pred)\n",
        "\n",
        "    if epoch % 10 == 0:\n",
        "        print(f\"Epoch: {epoch} | Loss: {loss:.5f}, Accuracy: {acc:.2f}% | Test loss: {test_loss:.5f}, Test acc: {test_accuracy:.2f}%\")"
      ],
      "metadata": {
        "colab": {
          "base_uri": "https://localhost:8080/"
        },
        "id": "6_ruf_-fAdUv",
        "outputId": "19ec9afb-2661-445c-ef4a-48f07e035620"
      },
      "execution_count": 26,
      "outputs": [
        {
          "output_type": "stream",
          "name": "stdout",
          "text": [
            "Epoch: 0 | Loss: 0.72218, Accuracy: 48.62% | Test loss: 0.72606, Test acc: 55.50%\n",
            "Epoch: 10 | Loss: -0.18679, Accuracy: 48.62% | Test loss: 1.27664, Test acc: 55.50%\n",
            "Epoch: 20 | Loss: -2.05232, Accuracy: 48.62% | Test loss: 3.04412, Test acc: 55.50%\n",
            "Epoch: 30 | Loss: -6.45951, Accuracy: 48.62% | Test loss: 7.44781, Test acc: 55.50%\n",
            "Epoch: 40 | Loss: -17.46218, Accuracy: 48.62% | Test loss: 18.48727, Test acc: 55.50%\n",
            "Epoch: 50 | Loss: -45.52312, Accuracy: 48.62% | Test loss: 46.68464, Test acc: 55.50%\n",
            "Epoch: 60 | Loss: -117.68203, Accuracy: 48.62% | Test loss: 119.24191, Test acc: 55.50%\n",
            "Epoch: 70 | Loss: -303.83261, Accuracy: 48.62% | Test loss: 306.47583, Test acc: 55.50%\n",
            "Epoch: 80 | Loss: -784.64453, Accuracy: 48.62% | Test loss: 790.15466, Test acc: 55.50%\n",
            "Epoch: 90 | Loss: -2027.13684, Accuracy: 48.62% | Test loss: 2040.14526, Test acc: 55.50%\n"
          ]
        }
      ]
    },
    {
      "cell_type": "code",
      "source": [
        "import requests\n",
        "from pathlib import Path \n",
        "\n",
        "if Path(\"helper_functions.py\").is_file():\n",
        "  print(\"helper_functions.py already exists, skipping download\")\n",
        "else:\n",
        "  print(\"Downloading helper_functions.py\")\n",
        "  request = requests.get(\"https://raw.githubusercontent.com/mrdbourke/pytorch-deep-learning/main/helper_functions.py\")\n",
        "  with open(\"helper_functions.py\", \"wb\") as f:\n",
        "    f.write(request.content)\n",
        "\n"
      ],
      "metadata": {
        "colab": {
          "base_uri": "https://localhost:8080/"
        },
        "id": "ovrN_vEF3ECT",
        "outputId": "383850d4-bf77-4527-b763-47203b933171"
      },
      "execution_count": 29,
      "outputs": [
        {
          "output_type": "stream",
          "name": "stdout",
          "text": [
            "helper_functions.py already exists, skipping download\n"
          ]
        }
      ]
    },
    {
      "cell_type": "code",
      "source": [
        "from helper_functions import plot_predictions, plot_decision_boundary\n",
        "plt.figure(figsize=(12, 6))\n",
        "plt.subplot(1, 2, 1)\n",
        "plt.title(\"Train\")\n",
        "plot_decision_boundary(model_0, X_train, y_train)\n",
        "plt.subplot(1, 2, 2)\n",
        "plt.title(\"Test\")\n",
        "plot_decision_boundary(model_0, X_test, y_test)"
      ],
      "metadata": {
        "colab": {
          "base_uri": "https://localhost:8080/",
          "height": 613
        },
        "id": "IWQGbB6B3LTr",
        "outputId": "6013f18c-f1ec-4fe4-c5eb-3802337da6b9"
      },
      "execution_count": 33,
      "outputs": [
        {
          "output_type": "error",
          "ename": "NameError",
          "evalue": "ignored",
          "traceback": [
            "\u001b[0;31m---------------------------------------------------------------------------\u001b[0m",
            "\u001b[0;31mNameError\u001b[0m                                 Traceback (most recent call last)",
            "\u001b[0;32m<ipython-input-33-e4343f986da2>\u001b[0m in \u001b[0;36m<module>\u001b[0;34m\u001b[0m\n\u001b[1;32m      3\u001b[0m \u001b[0mplt\u001b[0m\u001b[0;34m.\u001b[0m\u001b[0msubplot\u001b[0m\u001b[0;34m(\u001b[0m\u001b[0;36m1\u001b[0m\u001b[0;34m,\u001b[0m \u001b[0;36m2\u001b[0m\u001b[0;34m,\u001b[0m \u001b[0;36m1\u001b[0m\u001b[0;34m)\u001b[0m\u001b[0;34m\u001b[0m\u001b[0;34m\u001b[0m\u001b[0m\n\u001b[1;32m      4\u001b[0m \u001b[0mplt\u001b[0m\u001b[0;34m.\u001b[0m\u001b[0mtitle\u001b[0m\u001b[0;34m(\u001b[0m\u001b[0;34m\"Train\"\u001b[0m\u001b[0;34m)\u001b[0m\u001b[0;34m\u001b[0m\u001b[0;34m\u001b[0m\u001b[0m\n\u001b[0;32m----> 5\u001b[0;31m \u001b[0mplot_decision_boundary\u001b[0m\u001b[0;34m(\u001b[0m\u001b[0mmodel_0\u001b[0m\u001b[0;34m,\u001b[0m \u001b[0mX_train\u001b[0m\u001b[0;34m,\u001b[0m \u001b[0my_train\u001b[0m\u001b[0;34m)\u001b[0m\u001b[0;34m\u001b[0m\u001b[0;34m\u001b[0m\u001b[0m\n\u001b[0m\u001b[1;32m      6\u001b[0m \u001b[0mplt\u001b[0m\u001b[0;34m.\u001b[0m\u001b[0msubplot\u001b[0m\u001b[0;34m(\u001b[0m\u001b[0;36m1\u001b[0m\u001b[0;34m,\u001b[0m \u001b[0;36m2\u001b[0m\u001b[0;34m,\u001b[0m \u001b[0;36m2\u001b[0m\u001b[0;34m)\u001b[0m\u001b[0;34m\u001b[0m\u001b[0;34m\u001b[0m\u001b[0m\n\u001b[1;32m      7\u001b[0m \u001b[0mplt\u001b[0m\u001b[0;34m.\u001b[0m\u001b[0mtitle\u001b[0m\u001b[0;34m(\u001b[0m\u001b[0;34m\"Test\"\u001b[0m\u001b[0;34m)\u001b[0m\u001b[0;34m\u001b[0m\u001b[0;34m\u001b[0m\u001b[0m\n",
            "\u001b[0;31mNameError\u001b[0m: name 'model_0' is not defined"
          ]
        },
        {
          "output_type": "display_data",
          "data": {
            "text/plain": [
              "<Figure size 864x432 with 1 Axes>"
            ],
            "image/png": "[encoded data removed]"
          },
          "metadata": {
            "needs_background": "light"
          }
        }
      ]
    },
    {
      "cell_type": "code",
      "source": [
        "#Hyper parameter tuning - Making model deeper and wider\n",
        "class CircleClassificationV2(nn.Module):\n",
        "  def __init__(self):\n",
        "    super().__init__()\n",
        "    self.layer_1 = nn.Linear(in_features = 2, out_features = 10)\n",
        "    self.layer_2 = nn.Linear(in_features = 10, out_features = 10)\n",
        "    self.layer_3 = nn.Linear(in_features =10, out_features = 1)\n",
        "\n",
        "  def forward(self,x):\n",
        "    return self.layer_3(self.layer_2(self.layer_1(x)))\n",
        "\n",
        "model_1 = CircleClassificationV2().to(device)\n",
        "model_1"
      ],
      "metadata": {
        "colab": {
          "base_uri": "https://localhost:8080/"
        },
        "id": "PH6oVYnF4eg3",
        "outputId": "834cf300-bb12-4acc-ada6-3082487775dc"
      },
      "execution_count": 35,
      "outputs": [
        {
          "output_type": "execute_result",
          "data": {
            "text/plain": [
              "CircleClassificationV2(\n",
              "  (layer_1): Linear(in_features=2, out_features=10, bias=True)\n",
              "  (layer_2): Linear(in_features=10, out_features=10, bias=True)\n",
              "  (layer_3): Linear(in_features=10, out_features=1, bias=True)\n",
              ")"
            ]
          },
          "metadata": {},
          "execution_count": 35
        }
      ]
    },
    {
      "cell_type": "code",
      "source": [
        "loss_fn = nn.BCEWithLogitsLoss()\n",
        "optimizer = torch.optim.SGD(model_1.parameters(), lr = 0.1)\n"
      ],
      "metadata": {
        "id": "CB1QbWzy5dUD"
      },
      "execution_count": 37,
      "outputs": []
    },
    {
      "cell_type": "code",
      "source": [
        "#Increasing number of epochs\n",
        "EPOCHS = 1000\n",
        "\n",
        "X_train, y_train = X_train.to(device), y_train.to(device)\n",
        "X_test, y_test = X_test.to(device), y_test.to(device)"
      ],
      "metadata": {
        "id": "j-IEspzI5u1V"
      },
      "execution_count": 38,
      "outputs": []
    },
    {
      "cell_type": "code",
      "source": [
        "for epoch in range(EPOCHS):\n",
        "  model_1.train()\n",
        "  y_logits = model_1(X_train.type(torch.float)).squeeze()\n",
        "  y_pred = torch.round(torch.sigmoid(y_logits))\n",
        "  loss = loss_fn(y_train.type(torch.float), y_logits.type(torch.float))\n",
        "  acc = accuracy_fn(y_train, y_pred)\n",
        "\n",
        "  optimizer.zero_grad()\n",
        "  loss.backward()\n",
        "  optimizer.step()\n",
        "\n",
        "  model_1.eval()\n",
        "  with torch.inference_mode():\n",
        "        # 1. Forward pass\n",
        "        test_logits = model_1(X_test.type(torch.float)).squeeze() \n",
        "        test_pred = torch.round(torch.sigmoid(test_logits))\n",
        "        # 2. Caculate loss/accuracy\n",
        "        test_loss = loss_fn(test_logits.type(torch.float),\n",
        "                            y_test.type(torch.float))\n",
        "        test_acc = accuracy_fn(y_true=y_test,\n",
        "                               y_pred=test_pred)\n",
        "\n",
        "    # Print out what's happening every 10 epochs\n",
        "        if epoch % 100 == 0:\n",
        "            print(f\"Epoch: {epoch} | Loss: {loss:.5f}, Accuracy: {acc:.2f}% | Test loss: {test_loss:.5f}, Test acc: {test_acc:.2f}%\")"
      ],
      "metadata": {
        "colab": {
          "base_uri": "https://localhost:8080/"
        },
        "id": "m6zEXRRO6K0B",
        "outputId": "b67e2e2c-6f3c-4aec-8c18-07fb4f23c1c7"
      },
      "execution_count": 45,
      "outputs": [
        {
          "output_type": "stream",
          "name": "stdout",
          "text": [
            "Epoch: 0 | Loss: 0.90998, Accuracy: 49.00% | Test loss: 0.68964, Test acc: 55.50%\n",
            "Epoch: 100 | Loss: nan, Accuracy: 0.00% | Test loss: nan, Test acc: 0.00%\n",
            "Epoch: 200 | Loss: nan, Accuracy: 0.00% | Test loss: nan, Test acc: 0.00%\n",
            "Epoch: 300 | Loss: nan, Accuracy: 0.00% | Test loss: nan, Test acc: 0.00%\n",
            "Epoch: 400 | Loss: nan, Accuracy: 0.00% | Test loss: nan, Test acc: 0.00%\n",
            "Epoch: 500 | Loss: nan, Accuracy: 0.00% | Test loss: nan, Test acc: 0.00%\n",
            "Epoch: 600 | Loss: nan, Accuracy: 0.00% | Test loss: nan, Test acc: 0.00%\n",
            "Epoch: 700 | Loss: nan, Accuracy: 0.00% | Test loss: nan, Test acc: 0.00%\n",
            "Epoch: 800 | Loss: nan, Accuracy: 0.00% | Test loss: nan, Test acc: 0.00%\n",
            "Epoch: 900 | Loss: nan, Accuracy: 0.00% | Test loss: nan, Test acc: 0.00%\n"
          ]
        }
      ]
    },
    {
      "cell_type": "code",
      "source": [
        "#Since model is still bad, and predicts a straight line every-time we need to introduce a non-linearity in the system\n",
        "# Use non-linear activation functions (other than Sigmoid)\n",
        "\n",
        "class CircleClassificationV3(nn.Module):\n",
        "  def __init__(self):\n",
        "    super().__init__()\n",
        "    self.layer_1 = nn.Linear(in_features = 2, out_features = 10)\n",
        "    self.layer_2 = nn.Linear(in_features = 10, out_features = 5)\n",
        "    self.layer_3 = nn.Linear(in_features = 5, out_features = 1)\n",
        "    self.relu = nn.ReLU()\n",
        "  \n",
        "  def forward(self,X):\n",
        "    out1 = self.layer_1(X)\n",
        "    out2 = self.layer_2(self.relu(out1))\n",
        "    out3 = self.layer_3(self.relu(out2))\n",
        "    return out3\n"
      ],
      "metadata": {
        "id": "nPDj_AjP7u2e"
      },
      "execution_count": 46,
      "outputs": []
    },
    {
      "cell_type": "code",
      "source": [
        "_3 = CircleClassificationV3().to(device)\n",
        "loss_fn = nn.BCEWithLogitsLoss()\n",
        "optimizer = torch.optim.SGD(_3.parameters(), lr=0.1)\n",
        "\n"
      ],
      "metadata": {
        "id": "cWFQKGbG9XZN"
      },
      "execution_count": 48,
      "outputs": []
    },
    {
      "cell_type": "code",
      "source": [
        "torch.manual_seed(42)\n",
        "epochs = 1000\n",
        "\n",
        "# Put all data on target device\n",
        "X_train, y_train = X_train.to(device), y_train.to(device)\n",
        "X_test, y_test = X_test.to(device), y_test.to(device)\n",
        "\n",
        "for epoch in range(epochs):\n",
        "    # 1. Forward pass\n",
        "    y_logits = _3(X_train.type(torch.float)).squeeze()\n",
        "    y_pred = torch.round(torch.sigmoid(y_logits)) # logits -> prediction probabilities -> prediction labels\n",
        "    \n",
        "    # 2. Calculate loss and accuracy\n",
        "    loss = loss_fn(y_logits.type(torch.float), y_train.type(torch.float)) # BCEWithLogitsLoss calculates loss using logits\n",
        "    acc = accuracy_fn(y_true=y_train, \n",
        "                      y_pred=y_pred)\n",
        "    \n",
        "    # 3. Optimizer zero grad\n",
        "    optimizer.zero_grad()\n",
        "\n",
        "    # 4. Loss backward\n",
        "    loss.backward()\n",
        "\n",
        "    # 5. Optimizer step\n",
        "    optimizer.step()\n",
        "\n",
        "    ### Testing\n",
        "    _3.eval()\n",
        "    with torch.inference_mode():\n",
        "      # 1. Forward pass\n",
        "      test_logits = _3(X_test.type(torch.float)).squeeze()\n",
        "      test_pred = torch.round(torch.sigmoid(test_logits)) # logits -> prediction probabilities -> prediction labels\n",
        "      # 2. Calcuate loss and accuracy\n",
        "      test_loss = loss_fn(test_logits.type(torch.float), y_test.type(torch.float))\n",
        "      test_acc = accuracy_fn(y_true=y_test,\n",
        "                             y_pred=test_pred)\n",
        "\n",
        "    # Print out what's happening\n",
        "    if epoch % 100 == 0:\n",
        "        print(f\"Epoch: {epoch} | Loss: {loss:.5f}, Accuracy: {acc:.2f}% | Test Loss: {test_loss:.5f}, Test Accuracy: {test_acc:.2f}%\")"
      ],
      "metadata": {
        "colab": {
          "base_uri": "https://localhost:8080/"
        },
        "id": "hHKFEkaZ91jH",
        "outputId": "ed012764-3101-440c-bdfa-2afd4efac1cb"
      },
      "execution_count": 51,
      "outputs": [
        {
          "output_type": "stream",
          "name": "stdout",
          "text": [
            "Epoch: 0 | Loss: 0.69501, Accuracy: 48.62% | Test Loss: 0.68567, Test Accuracy: 55.50%\n",
            "Epoch: 100 | Loss: 0.68883, Accuracy: 51.38% | Test Loss: 0.69185, Test Accuracy: 44.50%\n",
            "Epoch: 200 | Loss: 0.68660, Accuracy: 54.25% | Test Loss: 0.69075, Test Accuracy: 47.50%\n",
            "Epoch: 300 | Loss: 0.68354, Accuracy: 60.25% | Test Loss: 0.68843, Test Accuracy: 50.00%\n",
            "Epoch: 400 | Loss: 0.67852, Accuracy: 63.62% | Test Loss: 0.68448, Test Accuracy: 55.50%\n",
            "Epoch: 500 | Loss: 0.67097, Accuracy: 67.62% | Test Loss: 0.67859, Test Accuracy: 60.00%\n",
            "Epoch: 600 | Loss: 0.65766, Accuracy: 70.50% | Test Loss: 0.66826, Test Accuracy: 62.00%\n",
            "Epoch: 700 | Loss: 0.63534, Accuracy: 76.38% | Test Loss: 0.65017, Test Accuracy: 69.00%\n",
            "Epoch: 800 | Loss: 0.59735, Accuracy: 81.00% | Test Loss: 0.61976, Test Accuracy: 73.00%\n",
            "Epoch: 900 | Loss: 0.53600, Accuracy: 84.62% | Test Loss: 0.56977, Test Accuracy: 77.50%\n"
          ]
        }
      ]
    }
  ]
}