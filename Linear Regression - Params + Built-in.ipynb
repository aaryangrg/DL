{
  "nbformat": 4,
  "nbformat_minor": 0,
  "metadata": {
    "colab": {
      "provenance": [],
      "authorship_tag": "ABX9TyPVnawK2bLytptUJAD4pyIm",
      "include_colab_link": true
    },
    "kernelspec": {
      "name": "python3",
      "display_name": "Python 3"
    },
    "language_info": {
      "name": "python"
    },
    "accelerator": "GPU",
    "gpuClass": "standard"
  },
  "cells": [
    {
      "cell_type": "markdown",
      "metadata": {
        "id": "view-in-github",
        "colab_type": "text"
      },
      "source": [
        "<a href=\"https://colab.research.google.com/github/aaryangrg/DL/blob/master/Linear%20Regression%20-%20Params%20%2B%20Built-in.ipynb\" target=\"_parent\"><img src=\"https://colab.research.google.com/assets/colab-badge.svg\" alt=\"Open In Colab\"/></a>"
      ]
    },
    {
      "cell_type": "code",
      "execution_count": 1,
      "metadata": {
        "id": "Qf4ZCcdq36OE"
      },
      "outputs": [],
      "source": [
        "import torch\n",
        "import torch.nn as nn\n",
        "import matplotlib.pyplot as plt\n"
      ]
    },
    {
      "cell_type": "code",
      "source": [
        "device = \"cuda\" if torch.cuda.is_available() else \"cpu\"\n"
      ],
      "metadata": {
        "id": "ae9DJKh94Elq"
      },
      "execution_count": 2,
      "outputs": []
    },
    {
      "cell_type": "code",
      "source": [
        "X = torch.rand(size = (100,))\n",
        "WEIGHT = 0.3\n",
        "BIAS = 0.9\n",
        "y = X*WEIGHT + BIAS\n",
        "split = int(0.8 * len(X))\n",
        "X = X.unsqueeze(dim=1)\n",
        "y = y.unsqueeze(dim=1)\n",
        "X_train, y_train = X[:split], y[:split]\n",
        "X_test, y_test = X[split:], y[split:]\n",
        "len(X_train)"
      ],
      "metadata": {
        "colab": {
          "base_uri": "https://localhost:8080/"
        },
        "id": "zifOod3D4fpz",
        "outputId": "d257ee31-2ee9-4207-c956-03bfbc83c206"
      },
      "execution_count": 25,
      "outputs": [
        {
          "output_type": "execute_result",
          "data": {
            "text/plain": [
              "80"
            ]
          },
          "metadata": {},
          "execution_count": 25
        }
      ]
    },
    {
      "cell_type": "code",
      "source": [
        "class FirstModel(nn.Module):\n",
        "  def __init__(self):\n",
        "    super().__init__()\n",
        "    self.weights = nn.Parameter(torch.randn(1,dtype = torch.float), requires_grad = True)\n",
        "    self.bias = nn.Parameter(torch.randn(1,dtype = torch.float), requires_grad = True)\n",
        "  \n",
        "  def forward(self,X):\n",
        "    return X*self.weights + self.bias\n",
        "  "
      ],
      "metadata": {
        "id": "iSafOALO5cX3"
      },
      "execution_count": 17,
      "outputs": []
    },
    {
      "cell_type": "code",
      "source": [
        "model = FirstModel()\n",
        "model.state_dict()"
      ],
      "metadata": {
        "colab": {
          "base_uri": "https://localhost:8080/"
        },
        "id": "FrB14GsU6KJs",
        "outputId": "6560cdb5-d4c6-42a8-e410-cb75eb731d6e"
      },
      "execution_count": 18,
      "outputs": [
        {
          "output_type": "execute_result",
          "data": {
            "text/plain": [
              "OrderedDict([('weights', tensor([1.3475])), ('bias', tensor([-2.8937]))])"
            ]
          },
          "metadata": {},
          "execution_count": 18
        }
      ]
    },
    {
      "cell_type": "code",
      "source": [
        "class SecondModel(nn.Module) :\n",
        "  def __init__(self) :\n",
        "    super().__init__()\n",
        "    self.linear_layer = nn.Linear(1,1)\n",
        "\n",
        "  def forward(self,X):\n",
        "    return self.linear_layer(X)"
      ],
      "metadata": {
        "id": "Tpv72eXi6Xiq"
      },
      "execution_count": 19,
      "outputs": []
    },
    {
      "cell_type": "code",
      "source": [
        "model2 = SecondModel()\n",
        "model2.state_dict()"
      ],
      "metadata": {
        "colab": {
          "base_uri": "https://localhost:8080/"
        },
        "id": "_dbLIFY66qmR",
        "outputId": "e4ef0b2f-9e56-4a94-e621-15092fe74671"
      },
      "execution_count": 20,
      "outputs": [
        {
          "output_type": "execute_result",
          "data": {
            "text/plain": [
              "OrderedDict([('linear_layer.weight', tensor([[0.3337]])),\n",
              "             ('linear_layer.bias', tensor([-0.4413]))])"
            ]
          },
          "metadata": {},
          "execution_count": 20
        }
      ]
    },
    {
      "cell_type": "code",
      "source": [
        "loss_fn = nn.L1Loss()\n",
        "optimizer = torch.optim.SGD(model2.parameters(),0.01)"
      ],
      "metadata": {
        "id": "KUxgFGIO7H1a"
      },
      "execution_count": 21,
      "outputs": []
    },
    {
      "cell_type": "code",
      "source": [
        "EPOCHS = 300\n",
        "X_train.to(device)\n",
        "X_test.to(device)\n",
        "y_train.to(device)\n",
        "y_test.to(device)\n",
        "for epoch in range(EPOCHS):\n",
        "  model2.train()\n",
        "  y_pred = model2(X_train)\n",
        "  loss = loss_fn(y_train,y_pred)\n",
        "  optimizer.zero_grad()\n",
        "  loss.backward()\n",
        "  optimizer.step()\n",
        "\n",
        "  if epoch % 20 == 0 :\n",
        "    model2.eval()\n",
        "    test_pred = model2(X_test)\n",
        "    test_loss = loss_fn(test_pred, y_test)\n",
        "    print(test_loss)\n",
        "\n"
      ],
      "metadata": {
        "colab": {
          "base_uri": "https://localhost:8080/"
        },
        "id": "5ItF79-p9UZz",
        "outputId": "f4ea0a76-4c1f-41ca-ee74-e0c08fa58ffe"
      },
      "execution_count": 28,
      "outputs": [
        {
          "output_type": "stream",
          "name": "stdout",
          "text": [
            "tensor(0.0230, grad_fn=<MeanBackward0>)\n",
            "tensor(0.0159, grad_fn=<MeanBackward0>)\n",
            "tensor(0.0086, grad_fn=<MeanBackward0>)\n",
            "tensor(0.0025, grad_fn=<MeanBackward0>)\n",
            "tensor(0.0070, grad_fn=<MeanBackward0>)\n",
            "tensor(0.0070, grad_fn=<MeanBackward0>)\n",
            "tensor(0.0070, grad_fn=<MeanBackward0>)\n",
            "tensor(0.0070, grad_fn=<MeanBackward0>)\n",
            "tensor(0.0070, grad_fn=<MeanBackward0>)\n",
            "tensor(0.0070, grad_fn=<MeanBackward0>)\n",
            "tensor(0.0070, grad_fn=<MeanBackward0>)\n",
            "tensor(0.0070, grad_fn=<MeanBackward0>)\n",
            "tensor(0.0070, grad_fn=<MeanBackward0>)\n",
            "tensor(0.0070, grad_fn=<MeanBackward0>)\n",
            "tensor(0.0070, grad_fn=<MeanBackward0>)\n"
          ]
        }
      ]
    },
    {
      "cell_type": "code",
      "source": [
        "from pathlib import Path\n",
        "\n",
        "DIRECTORY = Path(\"Models\")\n",
        "DIRECTORY.mkdir(parents = True, exist_ok = True)\n",
        "\n",
        "FILE_NAME = \"01_linear_reg_model.pth\"\n",
        "FILE_PATH = DIRECTORY/ FILE_NAME\n",
        "\n",
        "torch.save(model2.state_dict, FILE_PATH)\n"
      ],
      "metadata": {
        "id": "W6eJQ7e5AwgF"
      },
      "execution_count": 30,
      "outputs": []
    }
  ]
}